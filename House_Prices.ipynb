{
  "nbformat": 4,
  "nbformat_minor": 0,
  "metadata": {
    "colab": {
      "provenance": []
    },
    "kernelspec": {
      "name": "python3",
      "display_name": "Python 3"
    },
    "language_info": {
      "name": "python"
    }
  },
  "cells": [
    {
      "cell_type": "code",
      "execution_count": 3,
      "metadata": {
        "colab": {
          "base_uri": "https://localhost:8080/"
        },
        "id": "dho8cQv0mTO7",
        "outputId": "cc780147-6fab-4f86-998d-f3dfb8575690"
      },
      "outputs": [
        {
          "output_type": "stream",
          "name": "stdout",
          "text": [
            "Predictions saved to: predictions.csv\n"
          ]
        }
      ],
      "source": [
        "import pandas as pd\n",
        "from sklearn.linear_model import LinearRegression\n",
        "\n",
        "train_data_path = 'train.csv'\n",
        "test_data_path = 'test.csv'\n",
        "\n",
        "train_df = pd.read_csv(train_data_path)\n",
        "test_df = pd.read_csv(test_data_path)\n",
        "\n",
        "features = ['GrLivArea', 'BedroomAbvGr', 'FullBath', 'HalfBath']\n",
        "target = 'SalePrice'\n",
        "\n",
        "X_train = train_df[features]\n",
        "y_train = train_df[target]\n",
        "\n",
        "X_test = test_df[features]\n",
        "\n",
        "model = LinearRegression()\n",
        "model.fit(X_train, y_train)\n",
        "\n",
        "predicted_prices = model.predict(X_test)\n",
        "\n",
        "test_df['PredictedSalePrice'] = predicted_prices\n",
        "\n",
        "output_path = 'predictions.csv'\n",
        "test_df[['Id', 'GrLivArea', 'BedroomAbvGr', 'FullBath', 'HalfBath', 'PredictedSalePrice']].to_csv(output_path, index=False)\n",
        "\n",
        "print(\"Predictions saved to:\", output_path)\n"
      ]
    }
  ]
}